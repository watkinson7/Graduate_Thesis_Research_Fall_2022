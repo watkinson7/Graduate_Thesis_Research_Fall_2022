{
 "cells": [
  {
   "cell_type": "code",
   "execution_count": null,
   "id": "a72a2176-d91c-43fd-9e82-cea060a40613",
   "metadata": {},
   "outputs": [],
   "source": [
    "def linearplot(xdata,ydata,title,xlabel,ylabel\n",
    "               ,axislimits,xlimit,ylimit,linearregress):#,file):\n",
    "    #newshapex=np.reshape(xdata,(730,203680))\n",
    "    #newshapey=np.reshape(ydata, (730,203680))\n",
    "    #newshapex=np.reshape(xdata,(24,203680))\n",
    "    #newshapey=np.reshape(ydata, (24,203680))\n",
    "    #x=newshapex[0,:]\n",
    "    #y=newshapey[0,:]\n",
    "    #x=np.reshape(xdata, -1)\n",
    "    #y=np.reshape(ydata, -1)\n",
    "    #x = x[np.logical_not(np.isnan(x))]\n",
    "    #y = y[np.logical_not(np.isnan(y))]\n",
    "    #x_new = np.ma.masked_where(np.ma.getmask(y),x)\n",
    "    indices = np.logical_not(np.logical_or(np.isnan(x), np.isnan(y)))\n",
    "    x = x[indices]\n",
    "    y = y[indices]\n",
    "    plt.scatter(x,y,s=3,c='blue')\n",
    "    if (axislimits): #True if you want to set axis limits, False if you want python to do it based on data\n",
    "        plt.xlim(xlimit)\n",
    "        plt.ylim(ylimit)\n",
    "    else:\n",
    "        \"continue\"\n",
    "   \n",
    "    plt.title(title)\n",
    "    plt.xlabel(xlabel)\n",
    "    plt.ylabel(ylabel)\n",
    "    if (linearregress):#True if you want to calculate linear regression\n",
    "        print(linregress(x,y))\n",
    "        slope, intercept, r, p, se = linregress(x, y)\n",
    "        print(f\"R-squared: {r**2:.6f}\")\n",
    "        line = slope*x + intercept\n",
    "        plt.plot(x,line,color='black',ls='--',\n",
    "                 label='y={:.3f}x+{:.3f}, $R^2$={:.3f},stderr={:.3f}'\n",
    "                 .format(slope,intercept,r**2,se))\n",
    "        plt.legend(loc='best')\n",
    "    else:\n",
    "        \"continue\"\n",
    "    #plt.savefig('/data/watkinson/Figures_Inversion/linear_model/' + file)\n",
    "    plt.show()"
   ]
  }
 ],
 "metadata": {
  "kernelspec": {
   "display_name": "Python 3 (ipykernel)",
   "language": "python",
   "name": "python3"
  },
  "language_info": {
   "codemirror_mode": {
    "name": "ipython",
    "version": 3
   },
   "file_extension": ".py",
   "mimetype": "text/x-python",
   "name": "python",
   "nbconvert_exporter": "python",
   "pygments_lexer": "ipython3",
   "version": "3.9.13"
  }
 },
 "nbformat": 4,
 "nbformat_minor": 5
}
