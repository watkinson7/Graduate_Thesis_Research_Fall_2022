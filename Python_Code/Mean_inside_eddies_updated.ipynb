{
 "cells": [
  {
   "cell_type": "markdown",
   "id": "780f4362-60b5-4236-8eae-308e5c9408f9",
   "metadata": {},
   "source": [
    "# Calculate the mean inside eddies from satellite data\n",
    "Code written by: Billy Atkinson (watkinson@umces.edu) \\\n",
    "Paper Citation: Mason, E., A. Pascual, and J. C. McWilliams, 2014: A new sea surface height–based code for oceanic mesoscale eddy tracking. J. Atmos. Oceanic Technol., 31, 1181–1188, doi:10.1175/JTECH-D-14-00019.1. \\\n",
    "Source Code: __[Mean Inside Eddies](https://py-eddy-tracker.readthedocs.io/en/latest/python_module/02_eddy_identification/pet_interp_grid_on_dataset.html#sphx-glr-python-module-02-eddy-identification-pet-interp-grid-on-dataset-py)__ \\\n",
    "Date of last revision: 10/20/2022 "
   ]
  },
  {
   "cell_type": "code",
   "execution_count": 1,
   "id": "a8677380-4423-46cf-8cc4-3318a388933f",
   "metadata": {},
   "outputs": [],
   "source": [
    "import xarray as xr \n",
    "import matplotlib.pyplot as plt\n",
    "import numpy as np\n",
    "import pandas as pd\n",
    "import netCDF4 as nc\n",
    "import datetime as dt\n",
    "import matplotlib.cm as cm\n",
    "from mpl_toolkits.basemap import Basemap\n",
    "from scipy.stats import linregress\n",
    "import numpy.ma as ma\n",
    "import glob\n",
    "import os\n",
    "from py_eddy_tracker.dataset.grid import RegularGridDataset\n",
    "from py_eddy_tracker.observations.observation import EddiesObservations"
   ]
  },
  {
   "cell_type": "code",
   "execution_count": 5,
   "id": "5cad2c41-aad8-455b-911b-d6e6658549b2",
   "metadata": {},
   "outputs": [],
   "source": [
    "def grid_stat(x_c, y_c, grid, x, y, result, circular=False, method=\"mean\"):\n",
    "    \"\"\"\n",
    "    Compute the mean or the max of the grid for each contour\n",
    "\n",
    "    :param array_like x_c: the grid longitude coordinates\n",
    "    :param array_like y_c: the grid latitude coordinates\n",
    "    :param array_like grid: grid value\n",
    "    :param array_like x: longitude of contours\n",
    "    :param array_like y: latitude of contours\n",
    "    :param array_like result: return values\n",
    "    :param bool circular: True if grid is wrappable\n",
    "    :param str method: 'mean', 'max'\n",
    "    \"\"\"\n",
    "    # FIXME : how does it work on grid bound\n",
    "    nb = result.shape[0]\n",
    "    xstep, ystep = x_c[1] - x_c[0], y_c[1] - y_c[0]\n",
    "    x0, y0 = x_c - xstep / 2.0, y_c - ystep / 2.0\n",
    "    nb_x = x_c.shape[0]\n",
    "    max_method = \"max\" == method\n",
    "    mean_method = \"mean\" == method\n",
    "    count_method = \"count\" == method\n",
    "    for elt in range(nb):\n",
    "        v = create_vertice(x[elt], y[elt])\n",
    "        (x_start, x_stop), (y_start, y_stop) = bbox_indice_regular(\n",
    "            v, x0, y0, xstep, ystep, 1, circular, nb_x\n",
    "        )\n",
    "        i, j = get_pixel_in_regular(v, x_c, y_c, x_start, x_stop, y_start, y_stop)\n",
    "\n",
    "        if count_method:\n",
    "            result[elt] = i.shape[0]\n",
    "        elif mean_method:\n",
    "            v_sum = 0\n",
    "            for i_, j_ in zip(i, j):\n",
    "                v_sum += np.nansum(grid[i_, j_])\n",
    "            nb_ = i.shape[0]\n",
    "            # FIXME : how does it work on grid bound,\n",
    "            if nb_ == 0:\n",
    "                result[elt] = nan\n",
    "            else:\n",
    "                result[elt] = v_sum / nb_\n",
    "        elif max_method:\n",
    "            v_max = -1e40\n",
    "            for i_, j_ in zip(i, j):\n",
    "                v_max = max(v_max, grid[i_, j_])\n",
    "            result[elt] = v_max"
   ]
  },
  {
   "cell_type": "code",
   "execution_count": 6,
   "id": "0cc5d361-e6df-4cab-ad16-31feb14fba14",
   "metadata": {},
   "outputs": [],
   "source": [
    "def interp_grid(\n",
    "        self, grid_object, varname, method=\"center\", dtype=None, intern=None\n",
    "    ):\n",
    "        \"\"\"\n",
    "        Interpolate a grid on a center or contour with mean, min or max method\n",
    "\n",
    "        :param grid_object: Handler of grid to interp\n",
    "        :type grid_object: py_eddy_tracker.dataset.grid.RegularGridDataset\n",
    "        :param str varname: Name of variable to use\n",
    "        :param str method: 'center', 'mean', 'max', 'min', 'nearest'\n",
    "        :param str dtype: if None we use var dtype\n",
    "        :param bool intern: Use extern or intern contour\n",
    "\n",
    "        .. minigallery:: py_eddy_tracker.EddiesObservations.interp_grid\n",
    "        \"\"\"\n",
    "        if method in (\"center\", \"nearest\"):\n",
    "            return grid_object.interp(varname, self.longitude, self.latitude, method)\n",
    "        elif method in (\"min\", \"max\", \"mean\", \"count\"):\n",
    "            x0 = grid_object.x_bounds[0]\n",
    "            x_name, y_name = self.intern(False if intern is None else intern)\n",
    "            x_ref = ((self.longitude - x0) % 360 + x0 - 180).reshape(-1, 1)\n",
    "            x, y = (self[x_name] - x_ref) % 360 + x_ref, self[y_name]\n",
    "            grid = grid_object.grid(varname)\n",
    "            result = empty(self.shape, dtype=grid.dtype if dtype is None else dtype)\n",
    "            min_method = method == \"min\"\n",
    "            grid_stat(\n",
    "                grid_object.x_c,\n",
    "                grid_object.y_c,\n",
    "                -grid if min_method else grid,\n",
    "                x,\n",
    "                y,\n",
    "                result,\n",
    "                grid_object.is_circular(),\n",
    "                method=\"max\" if min_method else method,\n",
    "            )\n",
    "            return -result if min_method else result\n",
    "        else:\n",
    "            raise Exception(f'method \"{method}\" unknown')"
   ]
  },
  {
   "cell_type": "code",
   "execution_count": 48,
   "id": "642c91de-0bf8-4b6b-916f-c5b52ae7c8b6",
   "metadata": {
    "collapsed": true,
    "jupyter": {
     "outputs_hidden": true
    },
    "tags": []
   },
   "outputs": [
    {
     "name": "stderr",
     "output_type": "stream",
     "text": [
      "We assume pixel position of grid is centered for /data/watkinson/Fall2022/Sat_data/1day_regrid/CAFE_GOM_day_20030101.nc\n"
     ]
    },
    {
     "name": "stdout",
     "output_type": "stream",
     "text": [
      "(346,)\n",
      "[1.51e-43 1.36e-43 1.63e-43 1.51e-43 1.56e-43 1.54e-43]\n",
      "6\n"
     ]
    }
   ],
   "source": [
    "a = EddiesObservations.load_file('/data/watkinson/Fall2022/Eddy_data/GoM_tuned_eddies/Anticyclonic/Anticyclonic_20030101.nc')#anticyclonic eddy data\n",
    "#c = EddiesObservations.load_file(cycl_files[n])#cyclonic eddy data\n",
    "sat_data = RegularGridDataset(('/data/watkinson/Fall2022/Sat_data/1day_regrid/CAFE_GOM_day_20030101.nc'),\"lon\",\"lat\",nan_masking=True)\n",
    "sat_data\n",
    "grid = sat_data.grid(\"chlor_a\")\n",
    "print(np.shape(grid[0]))\n",
    "result = np.empty(a.shape, dtype=grid.dtype)# if dtype is None else dtype)\n",
    "print(result)\n",
    "nb = result.shape[0]\n",
    "print(nb)\n",
    "for elt in range(nb):\n",
    "    result[elt] = i.shape[0]\n",
    "print(results)"
   ]
  },
  {
   "cell_type": "code",
   "execution_count": 68,
   "id": "a2ce07b5-e581-478b-ae22-93b45707760a",
   "metadata": {
    "tags": []
   },
   "outputs": [
    {
     "name": "stderr",
     "output_type": "stream",
     "text": [
      "We assume pixel position of grid is centered for /data/watkinson/Fall2022/Sat_data/1day_regrid/CAFE_GOM_day_20030101.nc\n",
      "We assume pixel position of grid is centered for /data/watkinson/Fall2022/Sat_data/1day_regrid/CAFE_GOM_day_20030102.nc\n",
      "We assume pixel position of grid is centered for /data/watkinson/Fall2022/Sat_data/1day_regrid/CAFE_GOM_day_20030103.nc\n"
     ]
    },
    {
     "name": "stdout",
     "output_type": "stream",
     "text": [
      "1549\n",
      "1549\n"
     ]
    }
   ],
   "source": [
    "\n",
    "################take satelite files pats, sort them and load them into list\n",
    "sat_files = sorted(glob.glob('/data/watkinson/Fall2022/Sat_data/1day_regrid/*.nc'))\n",
    "#SSH_files = sorted(glob.glob('/data/watkinson/Fall2022/SSH_data/Cropped_SSH_Data/*.nc'))\n",
    "\n",
    "sat_files = sat_files[0:3]\n",
    "#print(SSH_files.index('/data/watkinson/Fall2022/SSH_data/Cropped_SSH_Data/hycom_gomu_501_20030101_cropped.nc'))\n",
    "#SSH_files = SSH_files[181:]\n",
    "#print(len(sat_files))\n",
    "#print(sat_files)\n",
    "\n",
    "################take anticyclonic eddy files paths, sort them and load them into list\n",
    "#anti_files = sorted(glob.glob('/data/watkinson/Fall2022/Eddy_data/Original_eddies/Anticyclonic/Anticyclonic_*.nc'))\n",
    "#anti_files = anti_files[508:1965]\n",
    "\n",
    "anti_files = sorted(glob.glob('/data/watkinson/Fall2022/Eddy_data/GoM_tuned_eddies/Anticyclonic/Anticyclonic_*.nc'))\n",
    "\n",
    "print(len(anti_files))\n",
    "#take cyclonic eddy files paths, sort them and load them into list\n",
    "#cycl_files = sorted(glob.glob('/data/watkinson/Fall2022/Eddy_data/Original_eddies/Cyclonic/Cyclonic_*.nc'))\n",
    "#cycl_files = cycl_files[508:1965]\n",
    "cycl_files = sorted(glob.glob('/data/watkinson/Fall2022/Eddy_data/GoM_tuned_eddies/Cyclonic/Cyclonic_*.nc'))\n",
    "print(len(cycl_files))\n",
    "'''\n",
    "#take satelite files pats, sort them and load them into list\n",
    "#sat_files = sorted(glob.glob('/data/watkinson/Summer2022/data/cafe/1day_regrid/*.nc'))\n",
    "\n",
    "#print(len(sat_files))\n",
    "#take anticyclonic eddy files paths, sort them and load them into list\n",
    "#anti_files = sorted(glob.glob('/data/watkinson/Summer2022/data/eddies/Anticyclonic/Anticyclonic_2004*.nc'))\n",
    "#anti_files = sorted(glob.glob('/data/watkinson/Fall2022/Eddy_data/GoM_tuned_eddies/Anticyclonic/Anticyclonic_2004*.nc'))\n",
    "#print(len(anti_files))\n",
    "#take cyclonic eddy files paths, sort them and load them into list\n",
    "#cycl_files = sorted(glob.glob('/data/watkinson/Summer2022/data/eddies/Cyclonic/Cyclonic_2004*.nc'))\n",
    "#cycl_files = sorted(glob.glob('/data/watkinson/Fall2022/Eddy_data/GoM_tuned_eddies/Cyclonic/Cyclonic_2004*.nc'))\n",
    "#print(len(cycl_files))\n",
    "'''\n",
    "cycl_chlor_max = list()#empty list to load cyclonic eddy chlorophyll mean vlaues into throghout loop below\n",
    "anti_chlor_max = list()#empty list to load anticyclonic eddy chlorophyll mean values into throghout loop below\n",
    "\n",
    "cycl_chlor_min = list()#empty list to load cyclonic eddy chlorophyll mean vlaues into throghout loop below\n",
    "anti_chlor_min = list()\n",
    "\n",
    "n=0 #set n to 0 so the loop starts with first file in list\n",
    "while n < len(sat_files): #once finalized, put this inside a funciton so you can calcualte the mean for multiple variables\n",
    "    #Load in data\n",
    "    a = EddiesObservations.load_file(anti_files[n])#anticyclonic eddy data\n",
    "    c = EddiesObservations.load_file(cycl_files[n])#cyclonic eddy data\n",
    "    sat_data = RegularGridDataset((sat_files[n]),\"lon\",\"lat\",nan_masking=True)#satellite data\n",
    "    \n",
    "    #this interpolates the satellite data grid onto the contours of the eddy data and uses mean function to calcualte values inside these contours\n",
    "        #can also do this method for: ‘center’, ‘mean’, ‘max’, ‘min’, ‘nearest’ \n",
    "    anti_chlor = a.interp_grid(sat_data, \"chlor_a\", method=\"mean\", intern=False)#this interpolates the sa\n",
    "    cycl_chlor = c.interp_grid(sat_data, \"chlor_a\", method=\"mean\", intern=False)\n",
    "    \n",
    "    #anti_chlor_m = a.interp_grid(sat_data, \"chlor_a\", method=\"mean\", intern=False)#this interpolates the sa\n",
    "    #cycl_chlor_m = c.interp_grid(sat_data, \"chlor_a\", method=\"mean\", intern=False)\n",
    "    #append the result for each file loop to the variables below\n",
    "    anti_chlor_max = np.concatenate([anti_chlor_max,anti_chlor])\n",
    "    cycl_chlor_max = np.concatenate([cycl_chlor_max,cycl_chlor])\n",
    "    \n",
    "    #anti_chlor_min = np.concatenate([anti_chlor_min,anti_chlor_m])\n",
    "    #cycl_chlor_min = np.concatenate([cycl_chlor_min,cycl_chlor_m])\n",
    "    #anti_chlor_mean.append(anti_chlor)\n",
    "    #cycl_chlor_mean.append(cycl_chlor)\n",
    "    \n",
    "    n=n+1\n"
   ]
  },
  {
   "cell_type": "code",
   "execution_count": 69,
   "id": "126096bd-8c71-4492-a961-278f74e98b63",
   "metadata": {},
   "outputs": [
    {
     "name": "stdout",
     "output_type": "stream",
     "text": [
      "[       nan        nan        nan        nan        nan        nan\n",
      "        nan        nan        nan        nan        nan        nan\n",
      "        nan        nan        nan        nan        nan 0.38627264\n",
      "        nan        nan        nan]\n"
     ]
    }
   ],
   "source": [
    "print(anti_chlor_max)"
   ]
  },
  {
   "cell_type": "code",
   "execution_count": null,
   "id": "f48d6d15-d9fd-4ce3-8319-58eded1c13f5",
   "metadata": {},
   "outputs": [],
   "source": []
  }
 ],
 "metadata": {
  "kernelspec": {
   "display_name": "Python 3 (ipykernel)",
   "language": "python",
   "name": "python3"
  },
  "language_info": {
   "codemirror_mode": {
    "name": "ipython",
    "version": 3
   },
   "file_extension": ".py",
   "mimetype": "text/x-python",
   "name": "python",
   "nbconvert_exporter": "python",
   "pygments_lexer": "ipython3",
   "version": "3.9.13"
  }
 },
 "nbformat": 4,
 "nbformat_minor": 5
}
