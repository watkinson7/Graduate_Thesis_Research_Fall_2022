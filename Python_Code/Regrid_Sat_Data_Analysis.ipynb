{
 "cells": [
  {
   "cell_type": "markdown",
   "id": "64a78d28-4a80-439f-822a-cf0c93d788d6",
   "metadata": {
    "tags": []
   },
   "source": [
    "# **Regrid Satellite Data**\n",
    "Code written by: Billy Atkinson (watkinson@umces.edu) \\\n",
    "Date of last revision: 08/03/2022 \\\n",
    "This code takes in Satellite Data from MODIS Aqua and regrids it to match the grid used for the HYCOM Absolute Dynamic Topography (ADT) data from the Gulf of Mexico Reanalysis Experiment 50.1  \\\n",
    "The HYCOM ADT data is useful for detecting mesoscale eddies in the Gulf of Mexico \\\n",
    "Documentation: [XESMF Documentation](https://xesmf.readthedocs.io/en/latest/notebooks/Dataset.html)"
   ]
  },
  {
   "cell_type": "code",
   "execution_count": 1,
   "id": "5c4e6d92-fa13-48ae-ba3e-643241009bbf",
   "metadata": {},
   "outputs": [],
   "source": [
    "import xarray as xr \n",
    "import numpy as np\n",
    "import pandas as pd\n",
    "import xesmf as xe\n",
    "import os\n",
    "import glob"
   ]
  },
  {
   "cell_type": "markdown",
   "id": "3545446c-89c2-4f72-b286-802d52716f6a",
   "metadata": {},
   "source": [
    "The while statement below is used to adjust the longitude for each satellite data file and regird each file to match the ADT grid. \\\n",
    "Each resulting file is saved to a new netcdf data format file."
   ]
  },
  {
   "cell_type": "code",
   "execution_count": 5,
   "id": "84754455-a1f1-4d72-9532-7092c23c06f9",
   "metadata": {},
   "outputs": [
    {
     "name": "stdout",
     "output_type": "stream",
     "text": [
      "(364,)\n",
      "(365,)\n"
     ]
    },
    {
     "data": {
      "text/plain": [
       "'\\ndir = \"/data/watkinson/Summer2022/data/cafe/1day/\"\\nsat_file_names = sorted(os.listdir(dir))\\nsat_file_names=sat_file_names[537:903]\\n\\nn=0\\nwhile n < len(sat_file_names):\\n    ds = xr.open_dataset(sat_file_objects[n])\\n    ds[\\'lon\\']=ds.lon + 360\\n    ds_out = xr.open_dataset(ssh_file_objects[n])\\n    regridder = xe.Regridder(ds,ds_out,\"bilinear\")\\n    ds_regrid = regridder(ds)\\n    dir = \\'/data/watkinson/Summer2022/data/cafe/1day_regrid/\\'\\n    ds_regrid.to_netcdf(dir + sat_file_names[n])\\n    n=n+1\\n'"
      ]
     },
     "execution_count": 5,
     "metadata": {},
     "output_type": "execute_result"
    }
   ],
   "source": [
    "sat_file_objects = sorted(glob.glob('/data/watkinson/Summer2022/data/cafe/1day/A2006*.nc'))\n",
    "print(np.shape(sat_file_objects))\n",
    "ssh_file_objects = sorted(glob.glob(\"/data/watkinson/Summer2022/data/hycom_ssh/Daily_SSH_files/hycom_gomu_501_2006*.nc\"))\n",
    "print(np.shape(ssh_file_objects))\n",
    "'''\n",
    "dir = \"/data/watkinson/Summer2022/data/cafe/1day/\"\n",
    "sat_file_names = sorted(os.listdir(dir))\n",
    "sat_file_names=sat_file_names[537:903]\n",
    "\n",
    "n=0\n",
    "while n < len(sat_file_names):\n",
    "    ds = xr.open_dataset(sat_file_objects[n])\n",
    "    ds['lon']=ds.lon + 360\n",
    "    ds_out = xr.open_dataset(ssh_file_objects[n])\n",
    "    regridder = xe.Regridder(ds,ds_out,\"bilinear\")\n",
    "    ds_regrid = regridder(ds)\n",
    "    dir = '/data/watkinson/Summer2022/data/cafe/1day_regrid/'\n",
    "    ds_regrid.to_netcdf(dir + sat_file_names[n])\n",
    "    n=n+1\n",
    "'''"
   ]
  },
  {
   "cell_type": "code",
   "execution_count": null,
   "id": "8e9cd9a8-4ad8-4c3e-9c4d-2d8cdfd6225a",
   "metadata": {},
   "outputs": [],
   "source": []
  }
 ],
 "metadata": {
  "kernelspec": {
   "display_name": "Python 3 (ipykernel)",
   "language": "python",
   "name": "python3"
  },
  "language_info": {
   "codemirror_mode": {
    "name": "ipython",
    "version": 3
   },
   "file_extension": ".py",
   "mimetype": "text/x-python",
   "name": "python",
   "nbconvert_exporter": "python",
   "pygments_lexer": "ipython3",
   "version": "3.9.13"
  }
 },
 "nbformat": 4,
 "nbformat_minor": 5
}
