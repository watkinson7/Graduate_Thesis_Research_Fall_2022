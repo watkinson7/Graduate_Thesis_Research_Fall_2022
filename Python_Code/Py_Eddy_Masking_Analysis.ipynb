{
 "cells": [
  {
   "cell_type": "code",
   "execution_count": 1,
   "id": "e6037d37-0733-45e5-82fd-367994849291",
   "metadata": {},
   "outputs": [
    {
     "name": "stderr",
     "output_type": "stream",
     "text": [
      "File was created with py-eddy-tracker version '3.5.0' but software version is '3.6'\n",
      "File was created with py-eddy-tracker version '3.5.0' but software version is '3.6'\n",
      "We assume pixel position of grid is centered for /data/watkinson/Spring2022/Satellite/data/modified_hycom_gomu_501_2006060500_t000.nc\n",
      "We assume pixel position of grid is centered for /data/watkinson/Summer2022/data/cafe/regrid_CAFE_GOM_20061532006160.nc\n"
     ]
    }
   ],
   "source": [
    "from py_eddy_tracker.dataset.grid import RegularGridDataset\n",
    "from py_eddy_tracker.observations.observation import EddiesObservations\n",
    "import numpy as np\n",
    "############Load in the eddy data for anticyclonic and cyclonic and the SSH data\n",
    "######Anticyclonic data\n",
    "dir = \"/data/watkinson/Spring2022/Satellite/data/eddies/Anticyclonic/\"\n",
    "a = EddiesObservations.load_file(dir + \"Anticyclonic_20060605.nc\")\n",
    "######Cyclonic data\n",
    "dir = \"/data/watkinson/Spring2022/Satellite/data/eddies/Cyclonic/\"\n",
    "c = EddiesObservations.load_file(dir + \"Cyclonic_20060605.nc\")\n",
    "######SSH data\n",
    "dir = \"/data/watkinson/Spring2022/Satellite/data/\"\n",
    "SSH_data = RegularGridDataset((dir + \"modified_hycom_gomu_501_2006060500_t000.nc\"),\n",
    "    \"lon\",\n",
    "    \"lat\")\n",
    "######Try Sat data: doesnt work need to regrid\n",
    "dir = \"/data/watkinson/Summer2022/data/cafe/\"\n",
    "sat_data = RegularGridDataset((dir + \"regrid_CAFE_GOM_20061532006160.nc\"),\n",
    "    \"lon\",\n",
    "    \"lat\")"
   ]
  },
  {
   "cell_type": "code",
   "execution_count": 2,
   "id": "ea2aa0e7-7cbe-472f-ba91-346811bf3318",
   "metadata": {},
   "outputs": [
    {
     "name": "stdout",
     "output_type": "stream",
     "text": [
      "contour_lon_e\n",
      "[[0 0 0 ... 0 0 0]\n",
      " [1 1 1 ... 0 0 0]\n",
      " [1 1 1 ... 0 0 0]\n",
      " ...\n",
      " [1 1 1 ... 0 0 0]\n",
      " [1 1 1 ... 0 0 0]\n",
      " [1 1 1 ... 0 0 0]]\n"
     ]
    },
    {
     "data": {
      "text/plain": [
       "'\\nimport xarray as xr\\ndir = \"/data/watkinson/Summer2022/data/cafe/\"\\nsat_data2 = xr.open_dataset((dir + \"regrid_CAFE_GOM_20061532006160.nc\"))\\nfig = plt.figure(figsize=(15, 8))\\nlat=sat_data2.lat\\nlon=sat_data2.lon\\nchlor = sat_data2.chlor_a\\nadt2 = np.transpose(adt2)\\nphyto = chlor * adt2\\nphyto = phyto.where(phyto != 0)\\n#print(phyto)\\n#print(np.count_nonzero(phyto))\\n#phyto = phyto * chlorophyll\\n#phyto=np.transpose(x)\\n#print(np.shape(x))\\n#phyto = phyto * chlorophyll\\n#print(np.size(phyto))\\n\\n#print(phyto)\\n\\n#from Map_plot import *\\na.display(ax, label=\"Cyclonic ({nb_obs} eddies)\", color=\"k\", lw=5, ls=\\'solid\\',extern_only=True)\\nlon2d,lat2d=np.meshgrid(lon,lat)\\ncf = ax.contourf(lon2d,lat2d,phyto,cmap=\\'jet\\',levels=np.linspace(0.001,1,50))\\ncl = ax.contour(lon2d,lat2d,phyto)#,levels=np.arange(17,34,10))#,lw=3)#,lw=3,color=\\'k\\')\\ncbar = fig.colorbar(cf,location=\\'bottom\\',format=\\'%.2f\\',shrink=.6,pad=.04)\\n\\n#map_plot(lon,lat,phyto,\\'Phytoplankton Carbon Biomass (mg C * $m^{-3}$)\\',\\'Phytoplankton Carbon Biomass on 06/02/06\\',False,np.linspace(17,34,50),10)\\n#map_plot(lon,lat,phyto,\\'Phytoplankton Carbon Biomass (mg C * $m^{-3}$)\\',\\'Phytoplankton Carbon Biomass on 06/02/06\\',True,np.linspace(17,34,50),10)\\n'"
      ]
     },
     "execution_count": 2,
     "metadata": {},
     "output_type": "execute_result"
    },
    {
     "data": {
      "image/png": "[encoded data removed]",
      "text/plain": [
       "<Figure size 864x432 with 1 Axes>"
      ]
     },
     "metadata": {
      "needs_background": "light"
     },
     "output_type": "display_data"
    }
   ],
   "source": [
    "#Get the pixels inside or outside of each eddy\n",
    "from matplotlib import pyplot as plt\n",
    "from matplotlib.path import Path\n",
    "from numpy import ones\n",
    "from py_eddy_tracker.poly import create_vertice\n",
    "fig = plt.figure(figsize=(12, 6))\n",
    "ax = fig.add_axes((0.05, 0.05, 0.9, 0.9))\n",
    "ax.set_aspect(\"equal\")\n",
    "ax.set_title(\"Chlorophyll Concentration Outisde of Eddies\",fontsize=15)#,fontweight='bold')\n",
    "\n",
    "######code for creating mask for values inside the eddy contour\n",
    "x_name, y_name = a.intern(False)# We will use the outter effective contour and not the inner speed contour\n",
    "print(x_name)\n",
    "\n",
    "adt= sat_data.grid(\"chlor_a\")\n",
    "#adt\n",
    "#print(np.size(adt))\n",
    "#print(np.count_nonzero(adt))\n",
    "\n",
    "mask = ones(adt.shape, dtype=\"bool\")#creates boolean array to use in masking values for cyclonic eddies\n",
    "#print(np.count_nonzero(mask==True))\n",
    "\n",
    "######takes the vertice points that defines the Cyclonic eddy edge and finds i,j pixels within those vertices\n",
    "for eddy in a:\n",
    "    i, j = Path(create_vertice(eddy[x_name], eddy[y_name])).pixels_in(sat_data)\n",
    "    mask[i, j] = False\n",
    "#print(np.count_nonzero(mask==True))\n",
    "adt.mask[:] += ~mask #apply the mask to the data that you want to investigate\n",
    "'''\n",
    "for eddy in a:\n",
    "            i, j = Path(create_vertice(eddy[x_name], eddy[y_name])).pixels_in(sat_data)\n",
    "            mask[i, j] = False\n",
    "adt.mask[:] = mask\n",
    "'''\n",
    "#print(np.count_nonzero(adt))\n",
    "#print(adt.mask)\n",
    "adt2 = adt.mask.astype(int)\n",
    "print(adt2)\n",
    "#x = np.array(adt.mask * adt, dtype='float64')\n",
    "#print(x)\n",
    "#print(adt)\n",
    "\n",
    "'''\n",
    "#####Display the maskes variables and eddy contours all on the same plot defined by ax function above\n",
    "m = file.display(ax, variable,vmin=vmin,vmax=vmax)#displays the new masked variable on the axis plot defined above\n",
    "cycl.display(ax, label=\"Cyclonic ({nb_obs} eddies)\", color=\"b\", lw=1, ls='solid',extern_only=True)\n",
    "ax.grid()#creates grid on plot\n",
    "######create colorbar located at the bottom and positioned lower to make room for x axis labels\n",
    "cb = plt.colorbar(m,location='bottom',format='%.2f',shrink=.6,pad=.06)\n",
    "cb.ax.set_xlabel(cb_label,fontsize=15)#label the colorbar\n",
    "#cb.set_clim(cb_range)\n",
    "'''\n",
    "'''\n",
    "import xarray as xr\n",
    "dir = \"/data/watkinson/Summer2022/data/cafe/\"\n",
    "sat_data2 = xr.open_dataset((dir + \"regrid_CAFE_GOM_20061532006160.nc\"))\n",
    "fig = plt.figure(figsize=(15, 8))\n",
    "lat=sat_data2.lat\n",
    "lon=sat_data2.lon\n",
    "chlor = sat_data2.chlor_a\n",
    "adt2 = np.transpose(adt2)\n",
    "phyto = chlor * adt2\n",
    "phyto = phyto.where(phyto != 0)\n",
    "#print(phyto)\n",
    "#print(np.count_nonzero(phyto))\n",
    "#phyto = phyto * chlorophyll\n",
    "#phyto=np.transpose(x)\n",
    "#print(np.shape(x))\n",
    "#phyto = phyto * chlorophyll\n",
    "#print(np.size(phyto))\n",
    "\n",
    "#print(phyto)\n",
    "\n",
    "#from Map_plot import *\n",
    "a.display(ax, label=\"Cyclonic ({nb_obs} eddies)\", color=\"k\", lw=5, ls='solid',extern_only=True)\n",
    "lon2d,lat2d=np.meshgrid(lon,lat)\n",
    "cf = ax.contourf(lon2d,lat2d,phyto,cmap='jet',levels=np.linspace(0.001,1,50))\n",
    "cl = ax.contour(lon2d,lat2d,phyto)#,levels=np.arange(17,34,10))#,lw=3)#,lw=3,color='k')\n",
    "cbar = fig.colorbar(cf,location='bottom',format='%.2f',shrink=.6,pad=.04)\n",
    "\n",
    "#map_plot(lon,lat,phyto,'Phytoplankton Carbon Biomass (mg C * $m^{-3}$)','Phytoplankton Carbon Biomass on 06/02/06',False,np.linspace(17,34,50),10)\n",
    "#map_plot(lon,lat,phyto,'Phytoplankton Carbon Biomass (mg C * $m^{-3}$)','Phytoplankton Carbon Biomass on 06/02/06',True,np.linspace(17,34,50),10)\n",
    "'''"
   ]
  },
  {
   "cell_type": "code",
   "execution_count": null,
   "id": "ab8dd228-8f34-4104-8595-f53aaf4fd7f4",
   "metadata": {},
   "outputs": [],
   "source": [
    "dir = \"/data/watkinson/Summer2022/data/cafe/\"\n",
    "sat_data = RegularGridDataset((dir + \"regrid_CAFE_GOM_20061532006160.nc\")"
   ]
  },
  {
   "cell_type": "code",
   "execution_count": null,
   "id": "179af65e-6ba8-41a0-bdaa-caff45e60a6d",
   "metadata": {},
   "outputs": [],
   "source": []
  },
  {
   "cell_type": "code",
   "execution_count": 26,
   "id": "f7a44ecd-8cfe-4163-a293-c50cd6ed49fc",
   "metadata": {
    "jupyter": {
     "source_hidden": true
    },
    "tags": []
   },
   "outputs": [],
   "source": [
    "import matplotlib.pyplot as plt\n",
    "import numpy as np\n",
    "#import pandas as pd\n",
    "import netCDF4 as nc\n",
    "import matplotlib.cm as cm #must have for color maps\n",
    "from mpl_toolkits.basemap import Basemap # must have for map plotting\n",
    "import numpy.ma as ma\n",
    "#from summary import *\n",
    "\n",
    "def map_plot(XC,YC,z,cbtitle,title,cbar_range,level,font):\n",
    "    \n",
    "    #lat=YC[0,:]\n",
    "    #lon=XC[:,0]\n",
    "    lat=YC\n",
    "    lon=XC\n",
    "    m1 = Basemap(projection='cea', llcrnrlon=-99, llcrnrlat=17, urcrnrlon=-76, \n",
    "             urcrnrlat=32, resolution='i')\n",
    "    m1.drawcoastlines(color='k', linewidth=.5)\n",
    "    m1.drawcountries()\n",
    "    m1.drawmeridians(np.arange(-98,-74,4),labels=[0,0,0,1],linewidth=0)\n",
    "    m1.drawparallels(np.arange(18,33,3),labels=[1,0,0,0],linewidth=0)\n",
    "\n",
    "    #make 2d lon and lat arrays\n",
    "    lon2d,lat2d=np.meshgrid(lon,lat)\n",
    "    x,y=m1(lon2d,lat2d)\n",
    "\n",
    "    colormap = cm.get_cmap('viridis')\n",
    "    if (cbar_range):#True = set a range for the colorbar\n",
    "        cs_data = m1.contourf(x, y, z,cmap=colormap,levels=level)\n",
    "    else:\n",
    "        cs_data = m1.contourf(x, y, z,cmap=colormap)\n",
    "    #cnt_chirp_19 = m1.contour(x, y, np.transpose(Zs[16, 0, :, :]), \n",
    "                          #colors='black', linewidths=1)  # ,levels=range(0,30,2))\n",
    "    cb_data= m1.colorbar(cs_data, location='bottom',format='%.2f',\n",
    "                         pad=.2)\n",
    "    cb_data.ax.tick_params(labelsize=font)#adjust size of font\n",
    "    cb_data.set_label(cbtitle)\n",
    "   #plt.clabel(cnt_chirp_19, fmt='%.0f', fontsize=3, inline=True)\n",
    "    plt.title(title)\n",
    "    maxdata=np.max(z)\n",
    "    mindata=np.min(z)\n",
    "    print('Max Value is: ',maxdata)# print the max data from map plot\n",
    "    alpha = np.where(z==maxdata)\n",
    "    print(alpha)\n",
    "    print('Min Value is: ',mindata)\n",
    "    beta=np.where(z==mindata)\n",
    "    print(beta)\n",
    "    #summry(z)\n",
    "    plt.show()\n",
    "    "
   ]
  },
  {
   "cell_type": "code",
   "execution_count": null,
   "id": "49d6ae9c-5a8d-467c-b849-2c54baeb9a67",
   "metadata": {},
   "outputs": [],
   "source": []
  }
 ],
 "metadata": {
  "kernelspec": {
   "display_name": "Python 3 (ipykernel)",
   "language": "python",
   "name": "python3"
  },
  "language_info": {
   "codemirror_mode": {
    "name": "ipython",
    "version": 3
   },
   "file_extension": ".py",
   "mimetype": "text/x-python",
   "name": "python",
   "nbconvert_exporter": "python",
   "pygments_lexer": "ipython3",
   "version": "3.9.13"
  }
 },
 "nbformat": 4,
 "nbformat_minor": 5
}
